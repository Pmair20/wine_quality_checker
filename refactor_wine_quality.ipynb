{
  "nbformat": 4,
  "nbformat_minor": 0,
  "metadata": {
    "kernelspec": {
      "display_name": "Python 3",
      "language": "python",
      "name": "python3"
    },
    "language_info": {
      "codemirror_mode": {
        "name": "ipython",
        "version": 3
      },
      "file_extension": ".py",
      "mimetype": "text/x-python",
      "name": "python",
      "nbconvert_exporter": "python",
      "pygments_lexer": "ipython3",
      "version": "3.6.3"
    },
    "colab": {
      "name": "refactor-wine-quality.ipynb",
      "provenance": []
    }
  },
  "cells": [
    {
      "cell_type": "markdown",
      "metadata": {
        "id": "bRVCzz6dEMMM"
      },
      "source": [
        "# Refactor: Wine Quality Analysis\n",
        "[here](https://archive.ics.uci.edu/ml/datasets/wine+quality). Each row contains data on a wine sample, including several physicochemical properties gathered from tests, as well as a quality rating evaluated by wine experts."
      ]
    },
    {
      "cell_type": "code",
      "metadata": {
        "id": "rHcxa7YxEMMP"
      },
      "source": [
        "import pandas as pd\n",
        "df = pd.read_csv('winequality-red.csv', sep=';')\n",
        "df.head()"
      ],
      "execution_count": null,
      "outputs": []
    },
    {
      "cell_type": "code",
      "metadata": {
        "id": "SG4AI46iEMMS"
      },
      "source": [
        "df.columns = [label.replace(' ', '_') for label in df.columns]\n",
        "df.head()"
      ],
      "execution_count": null,
      "outputs": []
    },
    {
      "cell_type": "markdown",
      "metadata": {
        "id": "aloL8AvvEMMT"
      },
      "source": [
        "### Analyzing Features\n",
        "To observe the quality of wine, basic way is to observe the mean quality rating for the top and bottom half of each feature."
      ]
    },
    {
      "cell_type": "code",
      "metadata": {
        "id": "325M3dqoEMMW"
      },
      "source": [
        "def numeric_to_buckets(df, column_name):\n",
        "    median = df[column_name].median()\n",
        "    for i, val in enumerate(df[column_name]):\n",
        "        if val >= median:\n",
        "            df.loc[i, column_name] = 'high'\n",
        "        else:\n",
        "            df.loc[i, column_name] = 'low' \n"
      ],
      "execution_count": null,
      "outputs": []
    },
    {
      "cell_type": "code",
      "metadata": {
        "id": "rRP-GwnNPyPG"
      },
      "source": [
        "for feature in df.columns[:-1]:\n",
        "    numeric_to_buckets(df, feature)\n",
        "    print(df.groupby(feature).quality.mean(), '\\n')"
      ],
      "execution_count": null,
      "outputs": []
    }
  ]
}